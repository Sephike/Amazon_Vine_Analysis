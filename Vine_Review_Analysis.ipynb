{
  "nbformat": 4,
  "nbformat_minor": 0,
  "metadata": {
    "colab": {
      "name": "Vine_Review_Analysis.ipynb",
      "provenance": []
    },
    "kernelspec": {
      "name": "python3",
      "display_name": "Python 3"
    }
  },
  "cells": [
    {
      "cell_type": "code",
      "metadata": {
        "colab": {
          "base_uri": "https://localhost:8080/"
        },
        "id": "aaTh2NKgbhhb",
        "outputId": "56048e37-443d-40f3-f651-cbc1bb930d87"
      },
      "source": [
        "import os\r\n",
        "# Find the latest version of spark 2.0  from http://www-us.apache.org/dist/spark/ and enter as the spark version\r\n",
        "# For example:\r\n",
        "# spark_version = 'spark-3.0.0'\r\n",
        "spark_version = 'spark-3.0.1'\r\n",
        "os.environ['SPARK_VERSION']=spark_version\r\n",
        "\r\n",
        "# Install Spark and Java\r\n",
        "!apt-get update\r\n",
        "!apt-get install openjdk-11-jdk-headless -qq > /dev/null\r\n",
        "!wget -q http://www-us.apache.org/dist/spark/$SPARK_VERSION/$SPARK_VERSION-bin-hadoop2.7.tgz\r\n",
        "!tar xf $SPARK_VERSION-bin-hadoop2.7.tgz\r\n",
        "!pip install -q findspark\r\n",
        "\r\n",
        "# Set Environment Variables\r\n",
        "import os\r\n",
        "os.environ[\"JAVA_HOME\"] = \"/usr/lib/jvm/java-11-openjdk-amd64\"\r\n",
        "os.environ[\"SPARK_HOME\"] = f\"/content/{spark_version}-bin-hadoop2.7\"\r\n",
        "\r\n",
        "# Start a SparkSession\r\n",
        "import findspark\r\n",
        "findspark.init()"
      ],
      "execution_count": 1,
      "outputs": [
        {
          "output_type": "stream",
          "text": [
            "\r0% [Working]\r            \rIgn:1 https://developer.download.nvidia.com/compute/cuda/repos/ubuntu1804/x86_64  InRelease\n",
            "\r0% [Connecting to archive.ubuntu.com] [Connecting to security.ubuntu.com] [Conn\r                                                                               \rIgn:2 https://developer.download.nvidia.com/compute/machine-learning/repos/ubuntu1804/x86_64  InRelease\n",
            "\r0% [Connecting to archive.ubuntu.com] [Connecting to security.ubuntu.com] [Wait\r                                                                               \rHit:3 https://cloud.r-project.org/bin/linux/ubuntu bionic-cran40/ InRelease\n",
            "\r0% [Connecting to archive.ubuntu.com] [Connecting to security.ubuntu.com] [Conn\r                                                                               \rHit:4 https://developer.download.nvidia.com/compute/cuda/repos/ubuntu1804/x86_64  Release\n",
            "Hit:5 https://developer.download.nvidia.com/compute/machine-learning/repos/ubuntu1804/x86_64  Release\n",
            "Hit:6 http://archive.ubuntu.com/ubuntu bionic InRelease\n",
            "Get:7 http://security.ubuntu.com/ubuntu bionic-security InRelease [88.7 kB]\n",
            "Get:9 http://archive.ubuntu.com/ubuntu bionic-updates InRelease [88.7 kB]\n",
            "Hit:10 http://ppa.launchpad.net/c2d4u.team/c2d4u4.0+/ubuntu bionic InRelease\n",
            "Hit:12 http://ppa.launchpad.net/cran/libgit2/ubuntu bionic InRelease\n",
            "Get:13 http://archive.ubuntu.com/ubuntu bionic-backports InRelease [74.6 kB]\n",
            "Hit:14 http://ppa.launchpad.net/graphics-drivers/ppa/ubuntu bionic InRelease\n",
            "Fetched 252 kB in 2s (122 kB/s)\n",
            "Reading package lists... Done\n"
          ],
          "name": "stdout"
        }
      ]
    },
    {
      "cell_type": "code",
      "metadata": {
        "colab": {
          "base_uri": "https://localhost:8080/"
        },
        "id": "kkbj1x30b1zn",
        "outputId": "a17344a3-3f17-4317-bea7-d55b59d0d71a"
      },
      "source": [
        "# Download the Postgres driver that will allow Spark to interact with Postgres.\r\n",
        "!wget https://jdbc.postgresql.org/download/postgresql-42.2.16.jar"
      ],
      "execution_count": 2,
      "outputs": [
        {
          "output_type": "stream",
          "text": [
            "--2021-02-08 04:07:54--  https://jdbc.postgresql.org/download/postgresql-42.2.16.jar\n",
            "Resolving jdbc.postgresql.org (jdbc.postgresql.org)... 72.32.157.228, 2001:4800:3e1:1::228\n",
            "Connecting to jdbc.postgresql.org (jdbc.postgresql.org)|72.32.157.228|:443... connected.\n",
            "HTTP request sent, awaiting response... 200 OK\n",
            "Length: 1002883 (979K) [application/java-archive]\n",
            "Saving to: ‘postgresql-42.2.16.jar.6’\n",
            "\n",
            "postgresql-42.2.16. 100%[===================>] 979.38K  6.05MB/s    in 0.2s    \n",
            "\n",
            "2021-02-08 04:07:54 (6.05 MB/s) - ‘postgresql-42.2.16.jar.6’ saved [1002883/1002883]\n",
            "\n"
          ],
          "name": "stdout"
        }
      ]
    },
    {
      "cell_type": "code",
      "metadata": {
        "id": "bCTEG27Kb74m"
      },
      "source": [
        "from pyspark.sql import SparkSession\r\n",
        "spark = SparkSession.builder.appName(\"BigData-Challenge\").config(\"spark.driver.extraClassPath\",\"/content/postgresql-42.2.16.jar\").getOrCreate()"
      ],
      "execution_count": 3,
      "outputs": []
    },
    {
      "cell_type": "code",
      "metadata": {
        "id": "fiBS5tJzcZD4"
      },
      "source": [
        "# Configure settings for RDS\r\n",
        "jdbc_url=\"jdbc:postgresql://database-challenge.cepct6ijggwk.us-east-2.rds.amazonaws.com:5432/postgres\"\r\n",
        "config = {\"user\":\"challenge\", \r\n",
        "          \"password\": \"Wjp3w8PGEkFSRbJ\", \r\n",
        "          \"driver\":\"org.postgresql.Driver\"}"
      ],
      "execution_count": 4,
      "outputs": []
    },
    {
      "cell_type": "code",
      "metadata": {
        "id": "iFKXg8ixjT5g"
      },
      "source": [
        "df = spark.read.jdbc(url=jdbc_url,table=\"vine_table\",properties=config)"
      ],
      "execution_count": 5,
      "outputs": []
    },
    {
      "cell_type": "code",
      "metadata": {
        "colab": {
          "base_uri": "https://localhost:8080/"
        },
        "id": "KvZN47Veng1U",
        "outputId": "81fc1b3a-02a2-4348-9c86-c0cc923a806a"
      },
      "source": [
        "total_votes_df = df.filter(df[\"total_votes\"] >= 20)\r\n",
        "total_votes_df.show()"
      ],
      "execution_count": 6,
      "outputs": [
        {
          "output_type": "stream",
          "text": [
            "+--------------+-----------+-------------+-----------+----+-----------------+\n",
            "|     review_id|star_rating|helpful_votes|total_votes|vine|verified_purchase|\n",
            "+--------------+-----------+-------------+-----------+----+-----------------+\n",
            "|R1J45RVPTZ5CWW|          5|           21|         21|   N|                N|\n",
            "| RZ3T3SRWVUV87|          1|           21|         24|   N|                Y|\n",
            "|R23PUAT9JE3TXZ|          1|           20|         26|   N|                N|\n",
            "| R8BCNNNW6UB02|          5|           32|         35|   N|                Y|\n",
            "|R3A8NFYXYI0AQ3|          5|           31|         32|   N|                Y|\n",
            "|R2Y3QGHTAUX7Y4|          1|           49|         70|   N|                N|\n",
            "| RDT7VRCPUTFVW|          5|           19|         21|   N|                Y|\n",
            "|R28M04PY6FH0Y7|          1|           23|         26|   N|                Y|\n",
            "|R3HVN1S3SKR0IN|          1|           24|         29|   N|                N|\n",
            "| R2K9KYE3FG84B|          2|           14|         20|   N|                Y|\n",
            "|R2JXHMPCR4C07R|          4|           33|         33|   N|                Y|\n",
            "|R1FJ35GDJYRC6I|          1|            7|         20|   N|                Y|\n",
            "|R3UL9A9D56ZP9D|          1|           87|        113|   N|                N|\n",
            "|R2WZ5CSINYMKGM|          5|           24|         29|   N|                Y|\n",
            "| RT8U2CR7ORIR5|          5|           55|         65|   N|                Y|\n",
            "|R13NGWO2IBD1RL|          1|            5|         21|   N|                Y|\n",
            "|R25OKBN53TRGR8|          5|           20|         21|   N|                Y|\n",
            "| RQUFHMC8KLSQ3|          5|           23|         23|   N|                N|\n",
            "| RQKFIJ7Q83RLZ|          3|           40|         43|   N|                Y|\n",
            "|R1S4LYA8SOGR1Y|          5|           24|         26|   N|                Y|\n",
            "+--------------+-----------+-------------+-----------+----+-----------------+\n",
            "only showing top 20 rows\n",
            "\n"
          ],
          "name": "stdout"
        }
      ]
    },
    {
      "cell_type": "code",
      "metadata": {
        "colab": {
          "base_uri": "https://localhost:8080/"
        },
        "id": "mZawTKntnjrI",
        "outputId": "8b89a7e7-f329-493e-9b31-70bd154fdd12"
      },
      "source": [
        "helpful_votes_df = total_votes_df.filter((total_votes_df[\"helpful_votes\"]/total_votes_df[\"total_votes\"]) >= 0.5)\r\n",
        "helpful_votes_df.show()"
      ],
      "execution_count": 7,
      "outputs": [
        {
          "output_type": "stream",
          "text": [
            "+--------------+-----------+-------------+-----------+----+-----------------+\n",
            "|     review_id|star_rating|helpful_votes|total_votes|vine|verified_purchase|\n",
            "+--------------+-----------+-------------+-----------+----+-----------------+\n",
            "|R1J45RVPTZ5CWW|          5|           21|         21|   N|                N|\n",
            "| RZ3T3SRWVUV87|          1|           21|         24|   N|                Y|\n",
            "|R23PUAT9JE3TXZ|          1|           20|         26|   N|                N|\n",
            "| R8BCNNNW6UB02|          5|           32|         35|   N|                Y|\n",
            "|R3A8NFYXYI0AQ3|          5|           31|         32|   N|                Y|\n",
            "|R2Y3QGHTAUX7Y4|          1|           49|         70|   N|                N|\n",
            "| RDT7VRCPUTFVW|          5|           19|         21|   N|                Y|\n",
            "|R28M04PY6FH0Y7|          1|           23|         26|   N|                Y|\n",
            "|R3HVN1S3SKR0IN|          1|           24|         29|   N|                N|\n",
            "| R2K9KYE3FG84B|          2|           14|         20|   N|                Y|\n",
            "|R2JXHMPCR4C07R|          4|           33|         33|   N|                Y|\n",
            "|R3UL9A9D56ZP9D|          1|           87|        113|   N|                N|\n",
            "|R2WZ5CSINYMKGM|          5|           24|         29|   N|                Y|\n",
            "| RT8U2CR7ORIR5|          5|           55|         65|   N|                Y|\n",
            "|R25OKBN53TRGR8|          5|           20|         21|   N|                Y|\n",
            "| RQUFHMC8KLSQ3|          5|           23|         23|   N|                N|\n",
            "| RQKFIJ7Q83RLZ|          3|           40|         43|   N|                Y|\n",
            "|R1S4LYA8SOGR1Y|          5|           24|         26|   N|                Y|\n",
            "|R2DRJD23QN7T0A|          4|           22|         24|   N|                N|\n",
            "|R2T94QFIS8WJRE|          3|           21|         24|   N|                Y|\n",
            "+--------------+-----------+-------------+-----------+----+-----------------+\n",
            "only showing top 20 rows\n",
            "\n"
          ],
          "name": "stdout"
        }
      ]
    },
    {
      "cell_type": "code",
      "metadata": {
        "colab": {
          "base_uri": "https://localhost:8080/"
        },
        "id": "Rr5Q5BFl4AOj",
        "outputId": "71b4556d-080b-46b3-e3a3-3857c68b9a4a"
      },
      "source": [
        "paid_reviews_df = helpful_votes_df.filter(df[\"vine\"].isin(\"Y\"))\r\n",
        "paid_reviews_df.show()"
      ],
      "execution_count": 8,
      "outputs": [
        {
          "output_type": "stream",
          "text": [
            "+--------------+-----------+-------------+-----------+----+-----------------+\n",
            "|     review_id|star_rating|helpful_votes|total_votes|vine|verified_purchase|\n",
            "+--------------+-----------+-------------+-----------+----+-----------------+\n",
            "|R191XSIF5H9SDP|          3|           75|         76|   Y|                N|\n",
            "| RUD4ZGLPRHXK8|          5|           99|        101|   Y|                N|\n",
            "|R27D5SF041PPF2|          2|           17|         20|   Y|                N|\n",
            "|R18E5B8UUGTXSL|          2|           58|         69|   Y|                N|\n",
            "|R213PJITYQAMNF|          3|           27|         29|   Y|                N|\n",
            "|R2YT3R9SJGIBN4|          5|          424|        455|   Y|                N|\n",
            "|R1XAOKR8PXM8JC|          5|           58|         59|   Y|                N|\n",
            "| RTYIMPVGTA5AH|          5|           45|         50|   Y|                N|\n",
            "|R32BLSG18S1GOO|          5|           40|         57|   Y|                N|\n",
            "| RDVN535NACYMI|          3|           21|         22|   Y|                N|\n",
            "|R2MQ2WQDQGF4WY|          4|           35|         41|   Y|                N|\n",
            "|R1TJL1N43KQCBJ|          5|           18|         21|   Y|                N|\n",
            "|R2A4X62BAHULW3|          5|           18|         20|   Y|                N|\n",
            "|R17879FD4RZAE0|          4|           21|         21|   Y|                N|\n",
            "|R2MH6JBHMY2FJ0|          4|           18|         22|   Y|                N|\n",
            "|R3TM9D24W3KVTQ|          5|           19|         20|   Y|                N|\n",
            "|R2GQ0LAT8146AR|          2|           31|         31|   Y|                N|\n",
            "|R2MA9CDUE55Q6F|          3|           24|         25|   Y|                N|\n",
            "|R1153RTML0IG0N|          4|           22|         31|   Y|                N|\n",
            "| RWI3Q5NNBBNEY|          4|           28|         29|   Y|                N|\n",
            "+--------------+-----------+-------------+-----------+----+-----------------+\n",
            "only showing top 20 rows\n",
            "\n"
          ],
          "name": "stdout"
        }
      ]
    },
    {
      "cell_type": "code",
      "metadata": {
        "colab": {
          "base_uri": "https://localhost:8080/"
        },
        "id": "1kq4M7U14dhR",
        "outputId": "b36999b7-134f-4716-8391-ab4c3b62dfa6"
      },
      "source": [
        "unpaid_reviews_df = helpful_votes_df.filter(df[\"vine\"].isin(\"N\"))\r\n",
        "unpaid_reviews_df.show()"
      ],
      "execution_count": 9,
      "outputs": [
        {
          "output_type": "stream",
          "text": [
            "+--------------+-----------+-------------+-----------+----+-----------------+\n",
            "|     review_id|star_rating|helpful_votes|total_votes|vine|verified_purchase|\n",
            "+--------------+-----------+-------------+-----------+----+-----------------+\n",
            "|R1J45RVPTZ5CWW|          5|           21|         21|   N|                N|\n",
            "| RZ3T3SRWVUV87|          1|           21|         24|   N|                Y|\n",
            "|R23PUAT9JE3TXZ|          1|           20|         26|   N|                N|\n",
            "| R8BCNNNW6UB02|          5|           32|         35|   N|                Y|\n",
            "|R3A8NFYXYI0AQ3|          5|           31|         32|   N|                Y|\n",
            "|R2Y3QGHTAUX7Y4|          1|           49|         70|   N|                N|\n",
            "| RDT7VRCPUTFVW|          5|           19|         21|   N|                Y|\n",
            "|R28M04PY6FH0Y7|          1|           23|         26|   N|                Y|\n",
            "|R3HVN1S3SKR0IN|          1|           24|         29|   N|                N|\n",
            "| R2K9KYE3FG84B|          2|           14|         20|   N|                Y|\n",
            "|R2JXHMPCR4C07R|          4|           33|         33|   N|                Y|\n",
            "|R3UL9A9D56ZP9D|          1|           87|        113|   N|                N|\n",
            "|R2WZ5CSINYMKGM|          5|           24|         29|   N|                Y|\n",
            "| RT8U2CR7ORIR5|          5|           55|         65|   N|                Y|\n",
            "|R25OKBN53TRGR8|          5|           20|         21|   N|                Y|\n",
            "| RQUFHMC8KLSQ3|          5|           23|         23|   N|                N|\n",
            "| RQKFIJ7Q83RLZ|          3|           40|         43|   N|                Y|\n",
            "|R1S4LYA8SOGR1Y|          5|           24|         26|   N|                Y|\n",
            "|R2DRJD23QN7T0A|          4|           22|         24|   N|                N|\n",
            "|R2T94QFIS8WJRE|          3|           21|         24|   N|                Y|\n",
            "+--------------+-----------+-------------+-----------+----+-----------------+\n",
            "only showing top 20 rows\n",
            "\n"
          ],
          "name": "stdout"
        }
      ]
    },
    {
      "cell_type": "code",
      "metadata": {
        "id": "vrNJfj_04p_d"
      },
      "source": [
        "total_reviews = df.count()"
      ],
      "execution_count": 10,
      "outputs": []
    },
    {
      "cell_type": "code",
      "metadata": {
        "id": "ojWp7l3E5Kut"
      },
      "source": [
        "five_star_reviews = helpful_votes_df.filter(helpful_votes_df[\"star_rating\"] == 5).count()"
      ],
      "execution_count": 30,
      "outputs": []
    },
    {
      "cell_type": "code",
      "metadata": {
        "id": "OXKhDFIO5ksW"
      },
      "source": [
        "five_star_paid_reviews = paid_reviews_df.filter(paid_reviews_df[\"star_rating\"] == 5).count()"
      ],
      "execution_count": 14,
      "outputs": []
    },
    {
      "cell_type": "code",
      "metadata": {
        "id": "bUDx1m__6K2b"
      },
      "source": [
        "five_star_unpaid_reviews = unpaid_reviews_df.filter(unpaid_reviews_df[\"star_rating\"] == 5).count()"
      ],
      "execution_count": 15,
      "outputs": []
    },
    {
      "cell_type": "code",
      "metadata": {
        "id": "EWM0XMaN6Th-"
      },
      "source": [
        "paid_percentage = (five_star_reviews/five_star_paid_reviews)"
      ],
      "execution_count": 35,
      "outputs": []
    },
    {
      "cell_type": "code",
      "metadata": {
        "id": "I1_coTlu6kl2"
      },
      "source": [
        "unpaid_percentage = (five_star_reviews/five_star_unpaid_reviews)"
      ],
      "execution_count": 36,
      "outputs": []
    },
    {
      "cell_type": "code",
      "metadata": {
        "colab": {
          "base_uri": "https://localhost:8080/"
        },
        "id": "6KsNcfgL6tNj",
        "outputId": "221c2695-ba40-4cc2-b7bb-bda423b1d882"
      },
      "source": [
        "print(paid_percentage)"
      ],
      "execution_count": 37,
      "outputs": [
        {
          "output_type": "stream",
          "text": [
            "70.40277777777777\n"
          ],
          "name": "stdout"
        }
      ]
    },
    {
      "cell_type": "code",
      "metadata": {
        "colab": {
          "base_uri": "https://localhost:8080/"
        },
        "id": "oiwER9LR6ypq",
        "outputId": "b456d66e-089d-4b72-a86e-f9600c7c5349"
      },
      "source": [
        "print(unpaid_percentage)"
      ],
      "execution_count": 38,
      "outputs": [
        {
          "output_type": "stream",
          "text": [
            "1.0144086451871122\n"
          ],
          "name": "stdout"
        }
      ]
    },
    {
      "cell_type": "code",
      "metadata": {
        "id": "rJoU9hyx644N"
      },
      "source": [
        ""
      ],
      "execution_count": null,
      "outputs": []
    }
  ]
}